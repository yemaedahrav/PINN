{
 "cells": [
  {
   "cell_type": "code",
   "execution_count": 1,
   "metadata": {},
   "outputs": [
    {
     "name": "stderr",
     "output_type": "stream",
     "text": [
      "C:\\Users\\ameyv\\anaconda3\\envs\\pinn\\lib\\site-packages\\tqdm\\auto.py:22: TqdmWarning: IProgress not found. Please update jupyter and ipywidgets. See https://ipywidgets.readthedocs.io/en/stable/user_install.html\n",
      "  from .autonotebook import tqdm as notebook_tqdm\n"
     ]
    }
   ],
   "source": [
    "import math\n",
    "\n",
    "import torch\n",
    "import torch.nn as nn\n",
    "import torch.nn.functional as F\n",
    "\n",
    "import pandas as pd\n",
    "import seaborn as sns\n",
    "import numpy as np\n",
    "import matplotlib.pyplot as plt\n",
    "\n",
    "from collections import OrderedDict\n",
    "\n",
    "import scipy.io\n",
    "from sklearn.feature_selection import mutual_info_regression\n",
    "\n",
    "from tqdm import tqdm\n",
    "\n",
    "sns.set_style(\"white\")\n",
    "\n",
    "plt.rcParams.update({                      \n",
    "    \"font.monospace\": [],\n",
    "    \"figure.figsize\": (12,8),\n",
    "    \"axes.labelsize\": 12,               # LaTeX default is 10pt font.\n",
    "    \"font.size\": 11,\n",
    "    \"legend.fontsize\": 10,               # Make the legend/label fonts a little smaller\n",
    "    \"xtick.labelsize\": 10,\n",
    "    \"ytick.labelsize\": 10\n",
    "    })"
   ]
  },
  {
   "cell_type": "code",
   "execution_count": 2,
   "metadata": {},
   "outputs": [],
   "source": [
    "# Multi-layer Perceptron\n",
    "class NN(nn.Module):\n",
    "    def __init__(\n",
    "        self,\n",
    "        input_size,\n",
    "        hidden_size,\n",
    "        output_size,\n",
    "        depth,\n",
    "        act=torch.nn.Tanh,\n",
    "    ):\n",
    "        super(NN, self).__init__()\n",
    "        \n",
    "        layers = [('input', torch.nn.Linear(input_size, hidden_size))]\n",
    "        layers.append(('input_activation', act()))\n",
    "        for i in range(depth): \n",
    "            layers.append(('hidden_%d' % i, torch.nn.Linear(hidden_size, hidden_size)))\n",
    "            layers.append(('--activation_%d' % i, act()))\n",
    "        layers.append(('output', torch.nn.Linear(hidden_size, output_size)))\n",
    "\n",
    "        layerDict = OrderedDict(layers)\n",
    "        self.layers = torch.nn.Sequential(layerDict)\n",
    "\n",
    "    def forward(self, x):\n",
    "        out = self.layers(x)\n",
    "        return out"
   ]
  },
  {
   "cell_type": "code",
   "execution_count": 11,
   "metadata": {},
   "outputs": [],
   "source": [
    "class Net:\n",
    "    def __init__(self):\n",
    "        device = torch.device(\"cuda\") if torch.cuda.is_available() else torch.device(\"cpu\")\n",
    "\n",
    "        self.model = NN(\n",
    "            input_size=2,\n",
    "            hidden_size=20,\n",
    "            output_size=1,\n",
    "            depth=4,\n",
    "            act=torch.nn.Tanh\n",
    "        ).to(device)\n",
    "        \n",
    "        self.h = 0.1\n",
    "        self.k = 0.1\n",
    "        x = torch.arange(-1, 1, self.h)\n",
    "        t = torch.arange(0, 1, self.k)\n",
    "\n",
    "        # exact solution\n",
    "        self.X = torch.stack(torch.meshgrid(x, t)).reshape(2, -1).T\n",
    "        \n",
    "        # training data\n",
    "        bc1 = torch.stack(torch.meshgrid(x[0], t)).reshape(2, -1).T\n",
    "        bc2 = torch.stack(torch.meshgrid(x[-1], t)).reshape(2, -1).T\n",
    "        ic = torch.stack(torch.meshgrid(x, t[0])).reshape(2, -1).T\n",
    "        self.X_train = torch.cat([bc1, bc2, ic])\n",
    "        y_bc1 = torch.zeros(len(bc1))\n",
    "        y_bc2 = torch.zeros(len(bc2))\n",
    "        y_ic = -torch.sin(math.pi * ic[:, 0])\n",
    "        self.y_train = torch.cat([y_bc1, y_bc2, y_ic])\n",
    "        self.y_train = self.y_train.unsqueeze(1)\n",
    "        \n",
    "        self.X = self.X.to(device)\n",
    "        self.X_train = self.X_train.to(device)\n",
    "        self.y_train = self.y_train.to(device)\n",
    "        self.X.requires_grad = True\n",
    "        \n",
    "        self.criterion = torch.nn.MSELoss()\n",
    "        self.iter = 1\n",
    "        \n",
    "        self.optimizer = torch.optim.LBFGS(\n",
    "            self.model.parameters(), \n",
    "            lr=1.0, \n",
    "            max_iter=50000, \n",
    "            max_eval=50000, \n",
    "            history_size=50,\n",
    "            tolerance_grad=1e-5, \n",
    "            tolerance_change=1.0 * np.finfo(float).eps\n",
    "        )\n",
    "        \n",
    "        self.adam = torch.optim.Adam(self.model.parameters())\n",
    "        \n",
    "    def loss_func(self):\n",
    "        self.optimizer.zero_grad()\n",
    "        \n",
    "        y_pred = self.model(self.X_train)\n",
    "        loss_data = self.criterion(y_pred, self.y_train)\n",
    "\n",
    "        u = self.model(self.X)\n",
    "\n",
    "        du_dX = torch.autograd.grad(inputs=self.X, outputs=u, grad_outputs=torch.ones_like(u), retain_graph=True, create_graph=True)[0]\n",
    "        du_dt = du_dX[:, 1]\n",
    "        du_dx = du_dX[:, 0]\n",
    "        du_dxx = torch.autograd.grad(inputs=self.X, outputs=du_dX, grad_outputs=torch.ones_like(du_dX), retain_graph=True, create_graph=True)[0][:, 0]\n",
    "#         print(u.shape, du_dt.shape, du_dx.shape, du_dxx.shape)\n",
    "        loss_pde = self.criterion(du_dt + u.squeeze() * du_dx, 0.01 / math.pi * du_dxx)\n",
    "\n",
    "        loss = loss_pde + loss_data\n",
    "        loss.backward()\n",
    "        if self.iter % 100 == 0: \n",
    "            print(self.iter, loss.item())\n",
    "        self.iter = self.iter + 1\n",
    "        return loss\n",
    "    \n",
    "    def train(self):\n",
    "        for i in range(10000):\n",
    "            self.adam.step(self.loss_func)\n",
    "        self.optimizer.step(self.loss_func)"
   ]
  },
  {
   "cell_type": "markdown",
   "metadata": {},
   "source": [
    "# Training"
   ]
  },
  {
   "cell_type": "code",
   "execution_count": 12,
   "metadata": {},
   "outputs": [
    {
     "name": "stdout",
     "output_type": "stream",
     "text": [
      "100 0.17301258444786072\n",
      "200 0.09119952470064163\n",
      "300 0.07790889590978622\n",
      "400 0.0649837777018547\n",
      "500 0.042887914925813675\n",
      "600 0.029112622141838074\n",
      "700 0.02126925252377987\n",
      "800 0.017835281789302826\n",
      "900 0.015036634169518948\n",
      "1000 0.012645424343645573\n",
      "1100 0.011011183261871338\n",
      "1200 0.010772880166769028\n",
      "1300 0.008989561349153519\n",
      "1400 0.008583451621234417\n",
      "1500 0.008279954083263874\n",
      "1600 0.007191489450633526\n",
      "1700 0.006570195779204369\n",
      "1800 0.006579969078302383\n",
      "1900 0.019326800480484962\n",
      "2000 0.008974647149443626\n",
      "2100 0.006805848330259323\n",
      "2200 0.005384103395044804\n",
      "2300 0.004932189825922251\n",
      "2400 0.004741780459880829\n",
      "2500 0.005134449806064367\n",
      "2600 0.004270158242434263\n",
      "2700 0.0040040588937699795\n",
      "2800 0.004158223979175091\n",
      "2900 0.005099139641970396\n",
      "3000 0.004167377948760986\n",
      "3100 0.003921447321772575\n",
      "3200 0.0034421386662870646\n",
      "3300 0.003043197561055422\n",
      "3400 0.004002354107797146\n",
      "3500 0.003372454084455967\n",
      "3600 0.0025893445126712322\n",
      "3700 0.0026624626480042934\n",
      "3800 0.0036503784358501434\n",
      "3900 0.0029190978966653347\n",
      "4000 0.002543028211221099\n",
      "4100 0.002267675707116723\n",
      "4200 0.00238240254111588\n",
      "4300 0.0023841429501771927\n",
      "4400 0.0025335471145808697\n",
      "4500 0.0018957608845084906\n",
      "4600 0.0018696528859436512\n",
      "4700 0.0027750746812671423\n",
      "4800 0.0017977647949010134\n",
      "4900 0.0020907260477542877\n",
      "5000 0.0017361120553687215\n",
      "5100 0.004488960839807987\n",
      "5200 0.0017300986219197512\n",
      "5300 0.0032728996593505144\n",
      "5400 0.0018029839266091585\n",
      "5500 0.001542916288599372\n",
      "5600 0.0027760642115026712\n",
      "5700 0.0016888114623725414\n",
      "5800 0.0026368561666458845\n",
      "5900 0.001345274387858808\n",
      "6000 0.0013504154048860073\n",
      "6100 0.0013958218041807413\n",
      "6200 0.002523071365430951\n",
      "6300 0.004722219426184893\n",
      "6400 0.001399097265675664\n",
      "6500 0.002406153129413724\n",
      "6600 0.001670756610110402\n",
      "6700 0.0020309474784880877\n",
      "6800 0.0015284616965800524\n",
      "6900 0.001612502383068204\n",
      "7000 0.0013601131504401565\n",
      "7100 0.0012820337433367968\n",
      "7200 0.0020634091924875975\n",
      "7300 0.0010611912002786994\n",
      "7400 0.0018274167086929083\n",
      "7500 0.0009688357240520418\n",
      "7600 0.0010956003097817302\n",
      "7700 0.0009920122101902962\n",
      "7800 0.000963265192694962\n",
      "7900 0.001009737839922309\n",
      "8000 0.0028014869894832373\n",
      "8100 0.001275329035706818\n",
      "8200 0.0019317257683724165\n",
      "8300 0.0008846040000207722\n",
      "8400 0.0010252348147332668\n",
      "8500 0.0024205432273447514\n",
      "8600 0.0010579321533441544\n",
      "8700 0.0008727982640266418\n",
      "8800 0.0007784110493957996\n",
      "8900 0.001558167627081275\n",
      "9000 0.0011786478571593761\n",
      "9100 0.0008513050270266831\n",
      "9200 0.000759347400162369\n",
      "9300 0.0010517286136746407\n",
      "9400 0.001936013693921268\n",
      "9500 0.0022262169513851404\n",
      "9600 0.0009288287255913019\n",
      "9700 0.0029109420720487833\n",
      "9800 0.0006805354496464133\n",
      "9900 0.002747091930359602\n",
      "10000 0.0006353905191645026\n",
      "10100 0.0003741164691746235\n",
      "10200 0.00024744219263084233\n",
      "10300 0.0001823693746700883\n",
      "10400 0.0001435881422366947\n",
      "10500 0.00011945552250836045\n",
      "10600 0.00010320539877284318\n",
      "10700 9.276085620513186e-05\n",
      "10800 7.985199772519991e-05\n",
      "10900 7.28278755559586e-05\n",
      "11000 6.126768130343407e-05\n",
      "11100 5.498310929397121e-05\n",
      "11200 4.967746644979343e-05\n",
      "11300 4.613072087522596e-05\n",
      "11400 4.2325587855884805e-05\n",
      "11500 3.911603562301025e-05\n",
      "11600 3.6791967431781814e-05\n",
      "11700 3.5112781915813684e-05\n",
      "11800 3.3742482628440484e-05\n",
      "11900 3.2210566132562235e-05\n",
      "12000 3.070021921303123e-05\n",
      "12100 2.979324563057162e-05\n",
      "12200 2.893540840886999e-05\n",
      "12300 2.8472755730035715e-05\n",
      "12400 2.7822403353638947e-05\n",
      "12500 2.690031578822527e-05\n",
      "12600 2.6240873921778984e-05\n",
      "12700 2.577116174506955e-05\n",
      "12800 2.523493458284065e-05\n",
      "12900 2.4737571948207915e-05\n",
      "13000 2.439233139739372e-05\n",
      "13100 2.4053895685938187e-05\n",
      "13200 2.37365147768287e-05\n",
      "13300 2.3366827008430846e-05\n",
      "13400 2.3058833903633058e-05\n",
      "13500 2.2989692297414877e-05\n",
      "13600 2.2972741135163233e-05\n",
      "13700 2.2959131456445903e-05\n",
      "13800 2.294735713803675e-05\n",
      "13900 2.2936832465347834e-05\n"
     ]
    }
   ],
   "source": [
    "net = Net()\n",
    "net.train()"
   ]
  },
  {
   "cell_type": "markdown",
   "metadata": {},
   "source": [
    "# Evaluation"
   ]
  },
  {
   "cell_type": "code",
   "execution_count": 13,
   "metadata": {},
   "outputs": [],
   "source": [
    "h = 0.01\n",
    "k = 0.01\n",
    "x = torch.arange(-1, 1, h)\n",
    "t = torch.arange(0, 1, k)\n",
    "\n",
    "# exact solution\n",
    "X = torch.stack(torch.meshgrid(x, t)).reshape(2, -1).T\n",
    "X = X.to(net.X.device)"
   ]
  },
  {
   "cell_type": "code",
   "execution_count": 14,
   "metadata": {},
   "outputs": [
    {
     "name": "stdout",
     "output_type": "stream",
     "text": [
      "torch.Size([200])\n",
      "torch.Size([100])\n",
      "torch.Size([20000, 2])\n",
      "tensor([[-1.0000,  0.0000],\n",
      "        [-1.0000,  0.0100],\n",
      "        [-1.0000,  0.0200],\n",
      "        ...,\n",
      "        [ 0.9900,  0.9700],\n",
      "        [ 0.9900,  0.9800],\n",
      "        [ 0.9900,  0.9900]])\n"
     ]
    }
   ],
   "source": [
    "print(x.shape)\n",
    "print(t.shape)\n",
    "print(X.shape)\n",
    "print(X)"
   ]
  },
  {
   "cell_type": "code",
   "execution_count": 15,
   "metadata": {},
   "outputs": [],
   "source": [
    "model = net.model\n",
    "model.eval()\n",
    "with torch.no_grad():\n",
    "    y_pred = model(X).reshape(len(x), len(t)).cpu().numpy()"
   ]
  },
  {
   "cell_type": "code",
   "execution_count": 16,
   "metadata": {},
   "outputs": [
    {
     "data": {
      "text/plain": [
       "<Axes: >"
      ]
     },
     "execution_count": 16,
     "metadata": {},
     "output_type": "execute_result"
    },
    {
     "data": {
      "image/png": "[encoded data removed]",
      "text/plain": [
       "<Figure size 1200x800 with 2 Axes>"
      ]
     },
     "metadata": {},
     "output_type": "display_data"
    }
   ],
   "source": [
    "sns.heatmap(y_pred, cmap='jet')"
   ]
  },
  {
   "cell_type": "markdown",
   "metadata": {},
   "source": [
    "# Save Result"
   ]
  },
  {
   "cell_type": "code",
   "execution_count": 17,
   "metadata": {},
   "outputs": [
    {
     "name": "stdout",
     "output_type": "stream",
     "text": [
      "(200, 100)\n",
      "[[ 0.002583    0.00219178  0.00187367 ... -0.00143713 -0.00142202\n",
      "  -0.00140549]\n",
      " [ 0.03407986  0.03274913  0.03154582 ...  0.00616057  0.00611643\n",
      "   0.00607552]\n",
      " [ 0.06539874  0.06313746  0.06105666 ...  0.01376766  0.01366439\n",
      "   0.01356553]\n",
      " ...\n",
      " [-0.09720136 -0.09436433 -0.0916914  ... -0.02487184 -0.02468674\n",
      "  -0.02450539]\n",
      " [-0.06458938 -0.0627474  -0.0610138  ... -0.01685254 -0.01672755\n",
      "  -0.0166055 ]\n",
      " [-0.03150259 -0.030689   -0.02992652 ... -0.00881366 -0.00874957\n",
      "  -0.00868706]]\n"
     ]
    }
   ],
   "source": [
    "print(y_pred.shape)\n",
    "print(y_pred)"
   ]
  },
  {
   "cell_type": "code",
   "execution_count": 18,
   "metadata": {},
   "outputs": [],
   "source": [
    "mat = {'v': y_pred}\n",
    "scipy.io.savemat('burgers_pinn.mat', mat)"
   ]
  }
 ],
 "metadata": {
  "kernelspec": {
   "display_name": "base",
   "language": "python",
   "name": "python3"
  },
  "language_info": {
   "codemirror_mode": {
    "name": "ipython",
    "version": 3
   },
   "file_extension": ".py",
   "mimetype": "text/x-python",
   "name": "python",
   "nbconvert_exporter": "python",
   "pygments_lexer": "ipython3",
   "version": "3.8.13"
  },
  "vscode": {
   "interpreter": {
    "hash": "f1b38bb04d81fd42ee2e2f288098ef35128fc088ebd616248212bf67c262eb73"
   }
  }
 },
 "nbformat": 4,
 "nbformat_minor": 4
}
