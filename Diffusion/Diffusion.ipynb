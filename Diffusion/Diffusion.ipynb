{
  "cells": [
    {
      "cell_type": "code",
      "execution_count": 1,
      "metadata": {
        "id": "DMOBdxuEyCSV"
      },
      "outputs": [],
      "source": [
        "import math\n",
        "\n",
        "import torch\n",
        "import torch.nn as nn\n",
        "import torch.nn.functional as F\n",
        "\n",
        "import pandas as pd\n",
        "import seaborn as sns\n",
        "import numpy as np\n",
        "import matplotlib.pyplot as plt\n",
        "import scipy.io\n",
        "\n",
        "from collections import OrderedDict\n",
        "from tqdm import tqdm\n",
        "\n",
        "sns.set_style(\"white\")"
      ]
    },
    {
      "cell_type": "code",
      "execution_count": 2,
      "metadata": {
        "id": "PlrWOOo54fPG"
      },
      "outputs": [],
      "source": [
        "# Multi-layer Perceptron\n",
        "class NN(nn.Module):\n",
        "    def __init__(\n",
        "        self,\n",
        "        input_size,\n",
        "        hidden_size,\n",
        "        output_size,\n",
        "        depth,\n",
        "        act=torch.nn.Tanh,\n",
        "    ):\n",
        "        super(NN, self).__init__()\n",
        "        \n",
        "        layers = [('input', torch.nn.Linear(input_size, hidden_size))]\n",
        "        layers.append(('input_activation', act()))\n",
        "        for i in range(depth): \n",
        "            layers.append(('hidden_%d' % i, torch.nn.Linear(hidden_size, hidden_size)))\n",
        "            layers.append(('activation_%d' % i, act()))\n",
        "        layers.append(('output', torch.nn.Linear(hidden_size, output_size)))\n",
        "\n",
        "        layerDict = OrderedDict(layers)\n",
        "        self.layers = torch.nn.Sequential(layerDict)\n",
        "\n",
        "    def forward(self, x):\n",
        "        out = self.layers(x)\n",
        "        return out"
      ]
    },
    {
      "cell_type": "code",
      "execution_count": 3,
      "metadata": {
        "id": "u0mI9OAz5PhS"
      },
      "outputs": [],
      "source": [
        "class Net:\n",
        "    def __init__(self):\n",
        "        device = torch.device(\"cuda\") if torch.cuda.is_available() else torch.device(\"cpu\")\n",
        "\n",
        "        self.model = NN(\n",
        "            input_size=2,\n",
        "            hidden_size=20,\n",
        "            output_size=1,\n",
        "            depth=4,\n",
        "            act=torch.nn.Tanh\n",
        "        ).to(device)\n",
        "        \n",
        "        self.h = 0.01\n",
        "        self.k = 0.01\n",
        "        x = torch.arange(-1, 1, self.h)\n",
        "        t = torch.arange(0, 1, self.k)\n",
        "        #print(\"x: \", x.shape, \"t: \", t.shape)\n",
        "\n",
        "        # exact solution\n",
        "        self.X = torch.stack(torch.meshgrid(x, t)).reshape(2, -1).T\n",
        "        #print(\"X\",self.X.shape)\n",
        "        \n",
        "        # training data\n",
        "        bc1 = torch.stack(torch.meshgrid(x[0], t)).reshape(2, -1).T\n",
        "        bc2 = torch.stack(torch.meshgrid(x[-1], t)).reshape(2, -1).T\n",
        "        ic = torch.stack(torch.meshgrid(x, t[0])).reshape(2, -1).T\n",
        "        self.X_train = torch.cat([bc1, bc2, ic])\n",
        "        #print(\"X_train\",self.X_train.shape)\n",
        "        \n",
        "        y_bc1 = torch.zeros(len(bc1))\n",
        "        y_bc2 = torch.zeros(len(bc2))\n",
        "        y_ic = torch.sin(math.pi * ic[:, 0])\n",
        "        #print(\"y_bc1: \", y_bc1.shape, \"y_bc2: \", y_bc2.shape, \"y_ic: \", y_ic.shape)\n",
        "        self.y_train = torch.cat([y_bc1, y_bc2, y_ic])\n",
        "        self.y_train = self.y_train.unsqueeze(1)\n",
        "        \n",
        "        self.X = self.X.to(device)\n",
        "        self.X_train = self.X_train.to(device)\n",
        "        self.y_train = self.y_train.to(device)\n",
        "        self.X.requires_grad = True\n",
        "        \n",
        "        self.criterion = torch.nn.MSELoss()\n",
        "        self.iter = 1\n",
        "        \n",
        "        self.optimizer = torch.optim.LBFGS(\n",
        "            self.model.parameters(), \n",
        "            lr=1.0, \n",
        "            max_iter=50000, \n",
        "            max_eval=50000, \n",
        "            history_size=50,\n",
        "            tolerance_grad=1e-5, \n",
        "            tolerance_change=1.0 * np.finfo(float).eps\n",
        "        )\n",
        "        \n",
        "        self.adam = torch.optim.Adam(self.model.parameters())\n",
        "\n",
        "    def loss_func(self):\n",
        "        self.optimizer.zero_grad()\n",
        "        \n",
        "        y_pred = self.model(self.X_train)\n",
        "        loss_data = self.criterion(y_pred, self.y_train)\n",
        "\n",
        "        y = self.model(self.X)\n",
        "        \n",
        "        x = self.X[:,0]\n",
        "        t = self.X[:,1]\n",
        "        #print(\"Inside x: \", x.shape, \"t: \", t.shape)\n",
        "        dy_dX = torch.autograd.grad(inputs=self.X, outputs=y, grad_outputs=torch.ones_like(y), retain_graph=True, create_graph=True)[0]\n",
        "        #print(\"dy_dX: \", dy_dX.shape)\n",
        "        dy_dx = dy_dX[:, 0]\n",
        "        #print(\"dy_dx: \", dy_dx.shape)\n",
        "        dy_dt = dy_dX[:, 1]\n",
        "        #print(\"dy_dt; \", dy_dt.shape)\n",
        "        dy_dxx = torch.autograd.grad(inputs=self.X, outputs=dy_dX, grad_outputs=torch.ones_like(dy_dX), retain_graph=True, create_graph=True)[0][:, 0]\n",
        "        #print(\"dy_dxx: \", dy_dxx.shape)\n",
        "        loss_pde = self.criterion(dy_dt - dy_dxx, -(torch.exp(-t))*(torch.sin(math.pi * x) - (math.pi)*(math.pi)*torch.sin(math.pi * x)))\n",
        "\n",
        "        loss = loss_pde + loss_data\n",
        "        loss.backward()\n",
        "        if self.iter % 100 == 0: \n",
        "            print(self.iter, loss.item())\n",
        "        self.iter = self.iter + 1\n",
        "        return loss\n",
        "    \n",
        "    def train(self):\n",
        "        for i in range(10000):\n",
        "            self.adam.step(self.loss_func)\n",
        "        self.optimizer.step(self.loss_func)"
      ]
    },
    {
      "cell_type": "code",
      "execution_count": 4,
      "metadata": {
        "colab": {
          "base_uri": "https://localhost:8080/"
        },
        "id": "8bKJvkSg-sv0",
        "outputId": "a79769f6-ccf1-4904-8dc1-9410b996e0ea"
      },
      "outputs": [
        {
          "name": "stderr",
          "output_type": "stream",
          "text": [
            "/usr/local/lib/python3.8/dist-packages/torch/functional.py:504: UserWarning: torch.meshgrid: in an upcoming release, it will be required to pass the indexing argument. (Triggered internally at ../aten/src/ATen/native/TensorShape.cpp:3190.)\n",
            "  return _VF.meshgrid(tensors, **kwargs)  # type: ignore[attr-defined]\n"
          ]
        },
        {
          "name": "stdout",
          "output_type": "stream",
          "text": [
            "100 4.425757884979248\n",
            "200 3.7618441581726074\n",
            "300 0.7334113121032715\n",
            "400 0.15455874800682068\n",
            "500 0.1146387904882431\n",
            "600 0.08446856588125229\n",
            "700 0.05328105762600899\n",
            "800 0.029342178255319595\n",
            "900 0.017794806510210037\n",
            "1000 0.010820871219038963\n",
            "1100 0.006505020894110203\n",
            "1200 0.0061294506303966045\n",
            "1300 0.0035919793881475925\n",
            "1400 0.0031832088716328144\n",
            "1500 0.00292928796261549\n",
            "1600 0.00273534725420177\n",
            "1700 0.002629523165524006\n",
            "1800 0.0024512256495654583\n",
            "1900 0.0023365169763565063\n",
            "2000 0.002239528577774763\n",
            "2100 0.0021468582563102245\n",
            "2200 0.0020650429651141167\n",
            "2300 0.0019848078954964876\n",
            "2400 0.001910290215164423\n",
            "2500 0.009007040411233902\n",
            "2600 0.0017723583150655031\n",
            "2700 0.001706684473901987\n",
            "2800 0.0016586796846240759\n",
            "2900 0.0015846503665670753\n",
            "3000 0.0015261382795870304\n",
            "3100 0.001471282565034926\n",
            "3200 0.001415278296917677\n",
            "3300 0.0015285892877727747\n",
            "3400 0.0013127829879522324\n",
            "3500 0.0012633629376068711\n",
            "3600 0.0012434577802196145\n",
            "3700 0.0011733717983588576\n",
            "3800 0.0011808015406131744\n",
            "3900 0.0010931857395917177\n",
            "4000 0.001056223758496344\n",
            "4100 0.001221243990585208\n",
            "4200 0.0009827828034758568\n",
            "4300 0.0009579945472069085\n",
            "4400 0.0009641643264330924\n",
            "4500 0.0029851736035197973\n",
            "4600 0.0008685891516506672\n",
            "4700 0.006364417728036642\n",
            "4800 0.0008214766858145595\n",
            "4900 0.0008952514035627246\n",
            "5000 0.0011834349716082215\n",
            "5100 0.0007622280390933156\n",
            "5200 0.0012926168274134398\n",
            "5300 0.0007441551424562931\n",
            "5400 0.000714063411578536\n",
            "5500 0.0007032479043118656\n",
            "5600 0.0007605660939589143\n",
            "5700 0.0006749845342710614\n",
            "5800 0.0006822760915383697\n",
            "5900 0.0006520719616673887\n",
            "6000 0.0007133185863494873\n",
            "6100 0.0010726425098255277\n",
            "6200 0.0006212810985744\n",
            "6300 0.0006634282181039453\n",
            "6400 0.0006151743000373244\n",
            "6500 0.0006219176575541496\n",
            "6600 0.0008962689898908138\n",
            "6700 0.0008931360789574683\n",
            "6800 0.0005720247281715274\n",
            "6900 0.0005659708986058831\n",
            "7000 0.0007156031206250191\n",
            "7100 0.0009332170011475682\n",
            "7200 0.0007173960912041366\n",
            "7300 0.000857398088555783\n",
            "7400 0.0008390859584324062\n",
            "7500 0.003749431576579809\n",
            "7600 0.0005188913783058524\n",
            "7700 0.0005214203847572207\n",
            "7800 0.00050676881801337\n",
            "7900 0.001469386974349618\n",
            "8000 0.0004956257762387395\n",
            "8100 0.0004925235407426953\n",
            "8200 0.0004927912377752364\n",
            "8300 0.0004881253407802433\n",
            "8400 0.00047632382484152913\n",
            "8500 0.0005289774271659553\n",
            "8600 0.002296787453815341\n",
            "8700 0.00046056724386289716\n",
            "8800 0.0006349802715703845\n",
            "8900 0.0005654090200550854\n",
            "9000 0.0004468335828278214\n",
            "9100 0.0004431742418091744\n",
            "9200 0.0004724669561255723\n",
            "9300 0.0005057855159975588\n",
            "9400 0.00043050720705650747\n",
            "9500 0.001142191467806697\n",
            "9600 0.00042376742931082845\n",
            "9700 0.00041817480814643204\n",
            "9800 0.0004593198245856911\n",
            "9900 0.00041035888716578484\n",
            "10000 0.00040959601756185293\n",
            "10100 0.00028710198239423335\n",
            "10200 0.00020746201334986836\n",
            "10300 0.00016138204955495894\n",
            "10400 0.00012432619405444711\n",
            "10500 9.665854304330423e-05\n",
            "10600 8.442586113233119e-05\n",
            "10700 7.672929496038705e-05\n",
            "10800 7.073509914334863e-05\n",
            "10900 6.40520520391874e-05\n",
            "11000 5.883387348148972e-05\n",
            "11100 5.616080670733936e-05\n",
            "11200 5.4849369917064905e-05\n",
            "11300 5.289115506457165e-05\n",
            "11400 5.1825343689415604e-05\n",
            "11500 4.940625512972474e-05\n",
            "11600 4.7114554035943e-05\n",
            "11700 4.354387056082487e-05\n",
            "11800 3.94731541746296e-05\n",
            "11900 3.7408346543088555e-05\n",
            "12000 3.5071876482106745e-05\n",
            "12100 3.124476643279195e-05\n",
            "12200 2.823134491336532e-05\n",
            "12300 2.6678371796151623e-05\n",
            "12400 2.5969389753299765e-05\n",
            "12500 2.4151251636794768e-05\n",
            "12600 2.323279477423057e-05\n",
            "12700 2.2300258933682926e-05\n",
            "12800 2.1983509213896468e-05\n",
            "12900 2.141489676432684e-05\n",
            "13000 2.099246012221556e-05\n",
            "13100 2.0688448785222135e-05\n",
            "13200 2.0134779333602637e-05\n",
            "13300 1.9801165763055906e-05\n",
            "13400 1.964366492757108e-05\n",
            "13500 1.9638151570688933e-05\n",
            "13600 1.963440445251763e-05\n"
          ]
        }
      ],
      "source": [
        "net = Net()\n",
        "net.train()"
      ]
    },
    {
      "cell_type": "code",
      "execution_count": 5,
      "metadata": {
        "id": "53LDQL-UY8IM"
      },
      "outputs": [],
      "source": [
        "h = 0.01\n",
        "k = 0.01\n",
        "x = torch.arange(-1, 1, h)\n",
        "t = torch.arange(0, 1, k)\n",
        "\n",
        "# exact solution\n",
        "X = torch.stack(torch.meshgrid(x, t)).reshape(2, -1).T\n",
        "X = X.to(net.X.device)"
      ]
    },
    {
      "cell_type": "code",
      "execution_count": 6,
      "metadata": {
        "id": "RP9kCEo1ZBSb"
      },
      "outputs": [],
      "source": [
        "model = net.model\n",
        "model.eval()\n",
        "with torch.no_grad():\n",
        "    y_pred = model(X).reshape(len(x), len(t)).cpu().numpy()"
      ]
    },
    {
      "cell_type": "code",
      "execution_count": 7,
      "metadata": {
        "colab": {
          "base_uri": "https://localhost:8080/",
          "height": 510
        },
        "id": "SGaW2zBFZG2q",
        "outputId": "9a633baa-0616-45b8-be0f-4bae3151929e"
      },
      "outputs": [
        {
          "data": {
            "text/plain": [
              "<AxesSubplot:>"
            ]
          },
          "execution_count": 7,
          "metadata": {},
          "output_type": "execute_result"
        },
        {
          "data": {
            "image/png": "[encoded data removed]",
            "text/plain": [
              "<Figure size 1080x576 with 2 Axes>"
            ]
          },
          "metadata": {},
          "output_type": "display_data"
        }
      ],
      "source": [
        "sns.set(rc={'figure.figsize': (15, 8)})\n",
        "sns.heatmap(y_pred, cmap='jet')"
      ]
    },
    {
      "cell_type": "code",
      "execution_count": 8,
      "metadata": {
        "id": "N6rwk_aAZLoU"
      },
      "outputs": [],
      "source": [
        "mat = {'v': y_pred}\n",
        "scipy.io.savemat('diffusion_pinn.mat', mat)"
      ]
    }
  ],
  "metadata": {
    "colab": {
      "provenance": []
    },
    "kernelspec": {
      "display_name": "base",
      "language": "python",
      "name": "python3"
    },
    "language_info": {
      "name": "python",
      "version": "3.8.13"
    },
    "vscode": {
      "interpreter": {
        "hash": "f1b38bb04d81fd42ee2e2f288098ef35128fc088ebd616248212bf67c262eb73"
      }
    }
  },
  "nbformat": 4,
  "nbformat_minor": 0
}
