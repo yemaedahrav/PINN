{
  "nbformat": 4,
  "nbformat_minor": 0,
  "metadata": {
    "colab": {
      "provenance": []
    },
    "kernelspec": {
      "name": "python3",
      "display_name": "Python 3"
    },
    "language_info": {
      "name": "python"
    }
  },
  "cells": [
    {
      "cell_type": "code",
      "execution_count": 1,
      "metadata": {
        "id": "DMOBdxuEyCSV"
      },
      "outputs": [],
      "source": [
        "import math\n",
        "\n",
        "import torch\n",
        "import torch.nn as nn\n",
        "import torch.nn.functional as F\n",
        "\n",
        "import pandas as pd\n",
        "import seaborn as sns\n",
        "import numpy as np\n",
        "import matplotlib.pyplot as plt\n",
        "import scipy.io\n",
        "\n",
        "from collections import OrderedDict\n",
        "from tqdm import tqdm\n",
        "\n",
        "sns.set_style(\"white\")"
      ]
    },
    {
      "cell_type": "code",
      "source": [
        "# Multi-layer Perceptron\n",
        "class NN(nn.Module):\n",
        "    def __init__(\n",
        "        self,\n",
        "        input_size,\n",
        "        hidden_size,\n",
        "        output_size,\n",
        "        depth,\n",
        "        act=torch.nn.Tanh,\n",
        "    ):\n",
        "        super(NN, self).__init__()\n",
        "        \n",
        "        layers = [('input', torch.nn.Linear(input_size, hidden_size))]\n",
        "        layers.append(('input_activation', act()))\n",
        "        for i in range(depth): \n",
        "            layers.append(\n",
        "                ('hidden_%d' % i, torch.nn.Linear(hidden_size, hidden_size))\n",
        "            )\n",
        "            layers.append(('activation_%d' % i, act()))\n",
        "        layers.append(('output', torch.nn.Linear(hidden_size, output_size)))\n",
        "\n",
        "        layerDict = OrderedDict(layers)\n",
        "        self.layers = torch.nn.Sequential(layerDict)\n",
        "\n",
        "    def forward(self, x):\n",
        "        out = self.layers(x)\n",
        "        return out"
      ],
      "metadata": {
        "id": "PlrWOOo54fPG"
      },
      "execution_count": 2,
      "outputs": []
    },
    {
      "cell_type": "code",
      "source": [
        "class Net:\n",
        "    def __init__(self):\n",
        "        device = torch.device(\"cuda\") if torch.cuda.is_available() else torch.device(\"cpu\")\n",
        "\n",
        "        self.model = NN(\n",
        "            input_size=2,\n",
        "            hidden_size=20,\n",
        "            output_size=1,\n",
        "            depth=4,\n",
        "            act=torch.nn.Tanh\n",
        "        ).to(device)\n",
        "        \n",
        "        self.h = 0.1\n",
        "        self.k = 0.1\n",
        "        x = torch.arange(-1, 1 + self.h, self.h)\n",
        "        t = torch.arange(0, 1 + self.k, self.k)\n",
        "        #print(\"x: \", x.shape, \"t: \", t.shape)\n",
        "\n",
        "        # exact solution\n",
        "        self.X = torch.stack(torch.meshgrid(x, t)).reshape(2, -1).T\n",
        "        #print(\"X\",self.X.shape)\n",
        "        \n",
        "        # training data\n",
        "        bc1 = torch.stack(torch.meshgrid(x[0], t)).reshape(2, -1).T\n",
        "        bc2 = torch.stack(torch.meshgrid(x[-1], t)).reshape(2, -1).T\n",
        "        ic = torch.stack(torch.meshgrid(x, t[0])).reshape(2, -1).T\n",
        "        self.X_train = torch.cat([bc1, bc2, ic])\n",
        "        #print(\"X_train\",self.X_train.shape)\n",
        "        \n",
        "        y_bc1 = torch.zeros(len(bc1))\n",
        "        y_bc2 = torch.zeros(len(bc2))\n",
        "        y_ic = torch.sin(math.pi * ic[:, 0])\n",
        "        #print(\"y_bc1: \", y_bc1.shape, \"y_bc2: \", y_bc2.shape, \"y_ic: \", y_ic.shape)\n",
        "        self.y_train = torch.cat([y_bc1, y_bc2, y_ic])\n",
        "        self.y_train = self.y_train.unsqueeze(1)\n",
        "        \n",
        "        self.X = self.X.to(device)\n",
        "        self.X_train = self.X_train.to(device)\n",
        "        self.y_train = self.y_train.to(device)\n",
        "        self.X.requires_grad = True\n",
        "        \n",
        "        self.criterion = torch.nn.MSELoss()\n",
        "        self.iter = 1\n",
        "        \n",
        "        self.optimizer = torch.optim.LBFGS(\n",
        "            self.model.parameters(), \n",
        "            lr=1.0, \n",
        "            max_iter=50000, \n",
        "            max_eval=50000, \n",
        "            history_size=50,\n",
        "            tolerance_grad=1e-5, \n",
        "            tolerance_change=1.0 * np.finfo(float).eps\n",
        "        )\n",
        "        \n",
        "        self.adam = torch.optim.Adam(self.model.parameters())\n",
        "\n",
        "    def loss_func(self):\n",
        "        self.optimizer.zero_grad()\n",
        "        \n",
        "        y_pred = self.model(self.X_train)\n",
        "        loss_data = self.criterion(y_pred, self.y_train)\n",
        "\n",
        "        y = self.model(self.X)\n",
        "        \n",
        "        x = self.X[:,0]\n",
        "        t = self.X[:,1]\n",
        "        #print(\"Inside x: \", x.shape, \"t: \", t.shape)\n",
        "        dy_dX = torch.autograd.grad(inputs=self.X, outputs=y, grad_outputs=torch.ones_like(y), retain_graph=True, create_graph=True)[0]\n",
        "        #print(\"dy_dX: \", dy_dX.shape)\n",
        "        dy_dx = dy_dX[:, 0]\n",
        "        #print(\"dy_dx: \", dy_dx.shape)\n",
        "        dy_dt = dy_dX[:, 1]\n",
        "        #print(\"dy_dt; \", dy_dt.shape)\n",
        "        dy_dxx = torch.autograd.grad(inputs=self.X, outputs=dy_dX, grad_outputs=torch.ones_like(dy_dX), retain_graph=True, create_graph=True)[0][:, 0]\n",
        "        #print(\"dy_dxx: \", dy_dxx.shape)\n",
        "        loss_pde = self.criterion(dy_dt - dy_dxx, (torch.exp(-t))*(torch.sin(math.pi * x) - (math.pi)*(math.pi)*torch.sin(math.pi * x)))\n",
        "\n",
        "        loss = loss_pde + loss_data\n",
        "        loss.backward()\n",
        "        if self.iter % 100 == 0: \n",
        "            print(self.iter, loss.item())\n",
        "        self.iter = self.iter + 1\n",
        "        return loss\n",
        "    \n",
        "    def train(self):\n",
        "        for i in range(10000):\n",
        "            self.adam.step(self.loss_func)\n",
        "        self.optimizer.step(self.loss_func)"
      ],
      "metadata": {
        "id": "u0mI9OAz5PhS"
      },
      "execution_count": 3,
      "outputs": []
    },
    {
      "cell_type": "code",
      "source": [
        "net = Net()\n",
        "net.train()"
      ],
      "metadata": {
        "colab": {
          "base_uri": "https://localhost:8080/"
        },
        "id": "8bKJvkSg-sv0",
        "outputId": "d4318432-fbaa-4914-ec4f-d7bb67159307"
      },
      "execution_count": 4,
      "outputs": [
        {
          "output_type": "stream",
          "name": "stderr",
          "text": [
            "/usr/local/lib/python3.8/dist-packages/torch/functional.py:504: UserWarning: torch.meshgrid: in an upcoming release, it will be required to pass the indexing argument. (Triggered internally at ../aten/src/ATen/native/TensorShape.cpp:3190.)\n",
            "  return _VF.meshgrid(tensors, **kwargs)  # type: ignore[attr-defined]\n"
          ]
        },
        {
          "output_type": "stream",
          "name": "stdout",
          "text": [
            "100 5.964388847351074\n",
            "200 1.2217981815338135\n",
            "300 0.578790009021759\n",
            "400 0.38759785890579224\n",
            "500 0.2089327722787857\n",
            "600 0.134126678109169\n",
            "700 0.10474293678998947\n",
            "800 0.08325724303722382\n",
            "900 0.0656048133969307\n",
            "1000 0.05125556141138077\n",
            "1100 0.04022953659296036\n",
            "1200 0.03483119606971741\n",
            "1300 0.027704525738954544\n",
            "1400 0.02373635396361351\n",
            "1500 0.020589277148246765\n",
            "1600 0.0179431289434433\n",
            "1700 0.015741746872663498\n",
            "1800 0.015744084492325783\n",
            "1900 0.015330782160162926\n",
            "2000 0.011538095772266388\n",
            "2100 0.010827360674738884\n",
            "2200 0.010166842490434647\n",
            "2300 0.00994337908923626\n",
            "2400 0.009878191165626049\n",
            "2500 0.00930467527359724\n",
            "2600 0.009159019216895103\n",
            "2700 0.008489642292261124\n",
            "2800 0.010144878178834915\n",
            "2900 0.008160818368196487\n",
            "3000 0.007901903241872787\n",
            "3100 0.00779840350151062\n",
            "3200 0.007522963918745518\n",
            "3300 0.007385781034827232\n",
            "3400 0.0073031410574913025\n",
            "3500 0.0080493725836277\n",
            "3600 0.007003789767622948\n",
            "3700 0.007455830462276936\n",
            "3800 0.0075530423782765865\n",
            "3900 0.006687447428703308\n",
            "4000 0.0065959179773926735\n",
            "4100 0.007045924197882414\n",
            "4200 0.006684922147542238\n",
            "4300 0.006331055425107479\n",
            "4400 0.006254791747778654\n",
            "4500 0.006182015873491764\n",
            "4600 0.006970287300646305\n",
            "4700 0.006028046831488609\n",
            "4800 0.006071873940527439\n",
            "4900 0.006601153407245874\n",
            "5000 0.005824543070048094\n",
            "5100 0.0057732947170734406\n",
            "5200 0.006750114727765322\n",
            "5300 0.005850048735737801\n",
            "5400 0.0055831559002399445\n",
            "5500 0.010003313422203064\n",
            "5600 0.005473240744322538\n",
            "5700 0.005418019834905863\n",
            "5800 0.00946604460477829\n",
            "5900 0.005312799941748381\n",
            "6000 0.005376588553190231\n",
            "6100 0.005524687469005585\n",
            "6200 0.005163590889424086\n",
            "6300 0.007568191271275282\n",
            "6400 0.0050686439499258995\n",
            "6500 0.00502426503226161\n",
            "6600 0.004996613599359989\n",
            "6700 0.0049310727044939995\n",
            "6800 0.0049120779149234295\n",
            "6900 0.004845624789595604\n",
            "7000 0.014699684455990791\n",
            "7100 0.004759280942380428\n",
            "7200 0.004717791453003883\n",
            "7300 0.005791874136775732\n",
            "7400 0.004638344049453735\n",
            "7500 0.005943337921053171\n",
            "7600 0.0045590391382575035\n",
            "7700 0.004520476330071688\n",
            "7800 0.010887093842029572\n",
            "7900 0.004441819619387388\n",
            "8000 0.004404659848660231\n",
            "8100 0.004393762443214655\n",
            "8200 0.004334204830229282\n",
            "8300 0.006417591590434313\n",
            "8400 0.004253401421010494\n",
            "8500 0.0042149522341787815\n",
            "8600 0.0043942732736468315\n",
            "8700 0.004166928585618734\n",
            "8800 0.010044226422905922\n",
            "8900 0.004064796958118677\n",
            "9000 0.004050692077726126\n",
            "9100 0.003995646722614765\n",
            "9200 0.004170165862888098\n",
            "9300 0.007529729977250099\n",
            "9400 0.004427231848239899\n",
            "9500 0.003835157724097371\n",
            "9600 0.003805781714618206\n",
            "9700 0.0037569100968539715\n",
            "9800 0.0037285201251506805\n",
            "9900 0.004772156476974487\n",
            "10000 0.006740175187587738\n",
            "10100 0.0026603881269693375\n",
            "10200 0.0018177711172029376\n",
            "10300 0.001414932543411851\n",
            "10400 0.0012158831814303994\n",
            "10500 0.0010493764420971274\n",
            "10600 0.0009265161352232099\n",
            "10700 0.0008273024577647448\n",
            "10800 0.0007825852371752262\n",
            "10900 0.0007416392909362912\n",
            "11000 0.0006904760375618935\n",
            "11100 0.0006131937261670828\n",
            "11200 0.0005266827647574246\n",
            "11300 0.000466037483420223\n",
            "11400 0.0004041585198137909\n",
            "11500 0.0003528677625581622\n",
            "11600 0.0002982711885124445\n",
            "11700 0.000262309389654547\n",
            "11800 0.00022397100110538304\n",
            "11900 0.00019854772835969925\n",
            "12000 0.00016758035053499043\n",
            "12100 0.00015045341569930315\n",
            "12200 0.00013854754797648638\n",
            "12300 0.0001295563706662506\n",
            "12400 0.00011924293357878923\n",
            "12500 0.00011308640387142077\n",
            "12600 0.00010297930566594005\n",
            "12700 9.41871985560283e-05\n",
            "12800 8.554257510695606e-05\n",
            "12900 7.97318498371169e-05\n",
            "13000 7.207535963971168e-05\n",
            "13100 6.704120460199192e-05\n",
            "13200 6.175240559969097e-05\n",
            "13300 5.8548197557684034e-05\n",
            "13400 5.441422763396986e-05\n",
            "13500 5.053974746260792e-05\n",
            "13600 4.7634723159717396e-05\n",
            "13700 4.4182888814248145e-05\n",
            "13800 4.081872248207219e-05\n",
            "13900 3.793387077166699e-05\n",
            "14000 3.656478656921536e-05\n",
            "14100 3.4965189115609974e-05\n",
            "14200 3.3317537599941716e-05\n",
            "14300 3.213747186237015e-05\n",
            "14400 3.096458385698497e-05\n",
            "14500 3.0082976081757806e-05\n",
            "14600 2.923654392361641e-05\n",
            "14700 2.8250522518646903e-05\n",
            "14800 2.684986247913912e-05\n",
            "14900 2.4832002964103594e-05\n",
            "15000 2.349316855543293e-05\n",
            "15100 2.2729329430148937e-05\n",
            "15200 2.1826366719324142e-05\n",
            "15300 2.10535763471853e-05\n",
            "15400 2.0480616512941197e-05\n",
            "15500 1.9882152628269978e-05\n"
          ]
        }
      ]
    },
    {
      "cell_type": "code",
      "source": [
        "h = 0.01\n",
        "k = 0.01\n",
        "x = torch.arange(-1, 1, h)\n",
        "t = torch.arange(0, 1, k)\n",
        "\n",
        "# exact solution\n",
        "X = torch.stack(torch.meshgrid(x, t)).reshape(2, -1).T\n",
        "X = X.to(net.X.device)"
      ],
      "metadata": {
        "id": "53LDQL-UY8IM"
      },
      "execution_count": 5,
      "outputs": []
    },
    {
      "cell_type": "code",
      "source": [
        "model = net.model\n",
        "model.eval()\n",
        "with torch.no_grad():\n",
        "    y_pred = model(X).reshape(len(x), len(t)).cpu().numpy()"
      ],
      "metadata": {
        "id": "RP9kCEo1ZBSb"
      },
      "execution_count": 6,
      "outputs": []
    },
    {
      "cell_type": "code",
      "source": [
        "sns.set(rc={'figure.figsize': (14, 7)})\n",
        "sns.heatmap(y_pred, cmap='jet')"
      ],
      "metadata": {
        "colab": {
          "base_uri": "https://localhost:8080/",
          "height": 456
        },
        "id": "SGaW2zBFZG2q",
        "outputId": "7decce34-f955-45d6-b6b1-a285f3cf9c2b"
      },
      "execution_count": 7,
      "outputs": [
        {
          "output_type": "execute_result",
          "data": {
            "text/plain": [
              "<AxesSubplot:>"
            ]
          },
          "metadata": {},
          "execution_count": 7
        },
        {
          "output_type": "display_data",
          "data": {
            "text/plain": [
              "<Figure size 1008x504 with 2 Axes>"
            ],
            "image/png": "[encoded data removed]"
          },
          "metadata": {}
        }
      ]
    },
    {
      "cell_type": "code",
      "source": [
        "mat = {'v': y_pred}\n",
        "scipy.io.savemat('diffusion_pinn.mat', mat)"
      ],
      "metadata": {
        "id": "N6rwk_aAZLoU"
      },
      "execution_count": 8,
      "outputs": []
    }
  ]
}