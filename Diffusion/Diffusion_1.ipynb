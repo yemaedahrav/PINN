{
  "nbformat": 4,
  "nbformat_minor": 0,
  "metadata": {
    "colab": {
      "provenance": []
    },
    "kernelspec": {
      "name": "python3",
      "display_name": "Python 3"
    },
    "language_info": {
      "name": "python"
    }
  },
  "cells": [
    {
      "cell_type": "code",
      "execution_count": 1,
      "metadata": {
        "id": "DMOBdxuEyCSV"
      },
      "outputs": [],
      "source": [
        "import math\n",
        "\n",
        "import torch\n",
        "import torch.nn as nn\n",
        "import torch.nn.functional as F\n",
        "\n",
        "import pandas as pd\n",
        "import seaborn as sns\n",
        "import numpy as np\n",
        "import matplotlib.pyplot as plt\n",
        "import scipy.io\n",
        "\n",
        "from collections import OrderedDict\n",
        "from tqdm import tqdm\n",
        "\n",
        "sns.set_style(\"white\")"
      ]
    },
    {
      "cell_type": "code",
      "source": [
        "# Multi-layer Perceptron\n",
        "class NN(nn.Module):\n",
        "    def __init__(\n",
        "        self,\n",
        "        input_size,\n",
        "        hidden_size,\n",
        "        output_size,\n",
        "        depth,\n",
        "        act=torch.nn.Tanh,\n",
        "    ):\n",
        "        super(NN, self).__init__()\n",
        "        \n",
        "        layers = [('input', torch.nn.Linear(input_size, hidden_size))]\n",
        "        layers.append(('input_activation', act()))\n",
        "        for i in range(depth): \n",
        "            layers.append(\n",
        "                ('hidden_%d' % i, torch.nn.Linear(hidden_size, hidden_size))\n",
        "            )\n",
        "            layers.append(('activation_%d' % i, act()))\n",
        "        layers.append(('output', torch.nn.Linear(hidden_size, output_size)))\n",
        "\n",
        "        layerDict = OrderedDict(layers)\n",
        "        self.layers = torch.nn.Sequential(layerDict)\n",
        "\n",
        "    def forward(self, x):\n",
        "        out = self.layers(x)\n",
        "        return out"
      ],
      "metadata": {
        "id": "PlrWOOo54fPG"
      },
      "execution_count": 2,
      "outputs": []
    },
    {
      "cell_type": "code",
      "source": [
        "class Net:\n",
        "    def __init__(self):\n",
        "        device = torch.device(\"cuda\") if torch.cuda.is_available() else torch.device(\"cpu\")\n",
        "\n",
        "        self.model = NN(\n",
        "            input_size=2,\n",
        "            hidden_size=20,\n",
        "            output_size=1,\n",
        "            depth=4,\n",
        "            act=torch.nn.Tanh\n",
        "        ).to(device)\n",
        "        \n",
        "        self.h = 0.1\n",
        "        self.k = 0.1\n",
        "        x = torch.arange(-1, 1 + self.h, self.h)\n",
        "        t = torch.arange(0, 1 + self.k, self.k)\n",
        "        #print(\"x: \", x.shape, \"t: \", t.shape)\n",
        "\n",
        "        # exact solution\n",
        "        self.X = torch.stack(torch.meshgrid(x, t)).reshape(2, -1).T\n",
        "        #print(\"X\",self.X.shape)\n",
        "        \n",
        "        # training data\n",
        "        bc1 = torch.stack(torch.meshgrid(x[0], t)).reshape(2, -1).T\n",
        "        bc2 = torch.stack(torch.meshgrid(x[-1], t)).reshape(2, -1).T\n",
        "        ic = torch.stack(torch.meshgrid(x, t[0])).reshape(2, -1).T\n",
        "        self.X_train = torch.cat([bc1, bc2, ic])\n",
        "        #print(\"X_train\",self.X_train.shape)\n",
        "        \n",
        "        y_bc1 = torch.zeros(len(bc1))\n",
        "        y_bc2 = torch.zeros(len(bc2))\n",
        "        y_ic = torch.sin(math.pi * ic[:, 0])\n",
        "        #print(\"y_bc1: \", y_bc1.shape, \"y_bc2: \", y_bc2.shape, \"y_ic: \", y_ic.shape)\n",
        "        self.y_train = torch.cat([y_bc1, y_bc2, y_ic])\n",
        "        self.y_train = self.y_train.unsqueeze(1)\n",
        "        \n",
        "        self.X = self.X.to(device)\n",
        "        self.X_train = self.X_train.to(device)\n",
        "        self.y_train = self.y_train.to(device)\n",
        "        self.X.requires_grad = True\n",
        "        \n",
        "        self.criterion = torch.nn.MSELoss()\n",
        "        self.iter = 1\n",
        "        \n",
        "        self.optimizer = torch.optim.LBFGS(\n",
        "            self.model.parameters(), \n",
        "            lr=1.0, \n",
        "            max_iter=50000, \n",
        "            max_eval=50000, \n",
        "            history_size=50,\n",
        "            tolerance_grad=1e-5, \n",
        "            tolerance_change=1.0 * np.finfo(float).eps\n",
        "        )\n",
        "        \n",
        "        self.adam = torch.optim.Adam(self.model.parameters())\n",
        "\n",
        "    def loss_func(self):\n",
        "        self.optimizer.zero_grad()\n",
        "        \n",
        "        y_pred = self.model(self.X_train)\n",
        "        loss_data = self.criterion(y_pred, self.y_train)\n",
        "\n",
        "        y = self.model(self.X)\n",
        "        \n",
        "        x = self.X[:,0]\n",
        "        t = self.X[:,1]\n",
        "        #print(\"Inside x: \", x.shape, \"t: \", t.shape)\n",
        "        dy_dX = torch.autograd.grad(inputs=self.X, outputs=y, grad_outputs=torch.ones_like(y), retain_graph=True, create_graph=True)[0]\n",
        "        #print(\"dy_dX: \", dy_dX.shape)\n",
        "        dy_dx = dy_dX[:, 0]\n",
        "        #print(\"dy_dx: \", dy_dx.shape)\n",
        "        dy_dt = dy_dX[:, 1]\n",
        "        #print(\"dy_dt; \", dy_dt.shape)\n",
        "        dy_dxx = torch.autograd.grad(inputs=self.X, outputs=dy_dX, grad_outputs=torch.ones_like(dy_dX), retain_graph=True, create_graph=True)[0][:, 0]\n",
        "        #print(\"dy_dxx: \", dy_dxx.shape)\n",
        "        loss_pde = self.criterion(dy_dt - dy_dxx, (torch.exp(-t))*(torch.sin(math.pi * x) - (math.pi)*(math.pi)*torch.sin(math.pi * x)))\n",
        "\n",
        "        loss = loss_pde + loss_data\n",
        "        loss.backward()\n",
        "        if self.iter % 100 == 0: \n",
        "            print(self.iter, loss.item())\n",
        "        self.iter = self.iter + 1\n",
        "        return loss\n",
        "    \n",
        "    def train(self):\n",
        "        for i in range(10000):\n",
        "            self.adam.step(self.loss_func)\n",
        "        self.optimizer.step(self.loss_func)"
      ],
      "metadata": {
        "id": "u0mI9OAz5PhS"
      },
      "execution_count": 3,
      "outputs": []
    },
    {
      "cell_type": "code",
      "source": [
        "net = Net()\n",
        "net.train()"
      ],
      "metadata": {
        "colab": {
          "base_uri": "https://localhost:8080/"
        },
        "id": "8bKJvkSg-sv0",
        "outputId": "99730666-2e58-43eb-d501-3e046d819e78"
      },
      "execution_count": 4,
      "outputs": [
        {
          "output_type": "stream",
          "name": "stderr",
          "text": [
            "/usr/local/lib/python3.8/dist-packages/torch/functional.py:504: UserWarning: torch.meshgrid: in an upcoming release, it will be required to pass the indexing argument. (Triggered internally at ../aten/src/ATen/native/TensorShape.cpp:3190.)\n",
            "  return _VF.meshgrid(tensors, **kwargs)  # type: ignore[attr-defined]\n"
          ]
        },
        {
          "output_type": "stream",
          "name": "stdout",
          "text": [
            "100 6.001253128051758\n",
            "200 1.7265129089355469\n",
            "300 0.6370241641998291\n",
            "400 0.5778231620788574\n",
            "500 0.5203321576118469\n",
            "600 0.43864747881889343\n",
            "700 0.3643803894519806\n",
            "800 0.26817813515663147\n",
            "900 0.14909473061561584\n",
            "1000 0.10350316762924194\n",
            "1100 0.08400629460811615\n",
            "1200 0.07072921842336655\n",
            "1300 0.06127926707267761\n",
            "1400 0.05426155775785446\n",
            "1500 0.04709882289171219\n",
            "1600 0.04044583439826965\n",
            "1700 0.032650649547576904\n",
            "1800 0.026778310537338257\n",
            "1900 0.02033369056880474\n",
            "2000 0.015324611216783524\n",
            "2100 0.010982728563249111\n",
            "2200 0.007801256142556667\n",
            "2300 0.005837139207869768\n",
            "2400 0.004686878994107246\n",
            "2500 0.004034692421555519\n",
            "2600 0.003637222107499838\n",
            "2700 0.0034786290489137173\n",
            "2800 0.0032078525982797146\n",
            "2900 0.006381526589393616\n",
            "3000 0.0029707939829677343\n",
            "3100 0.0028808428905904293\n",
            "3200 0.0028441036120057106\n",
            "3300 0.0027365763671696186\n",
            "3400 0.002671490889042616\n",
            "3500 0.002614414319396019\n",
            "3600 0.0025559321511536837\n",
            "3700 0.0029234776739031076\n",
            "3800 0.0026510420721024275\n",
            "3900 0.00240087928250432\n",
            "4000 0.0023940003011375666\n",
            "4100 0.002305534202605486\n",
            "4200 0.002279413165524602\n",
            "4300 0.002226904034614563\n",
            "4400 0.004394080489873886\n",
            "4500 0.0021335247438400984\n",
            "4600 0.002285152208060026\n",
            "4700 0.0020560487173497677\n",
            "4800 0.002015562728047371\n",
            "4900 0.0019797866698354483\n",
            "5000 0.0026481999084353447\n",
            "5100 0.002808345016092062\n",
            "5200 0.0018719141371548176\n",
            "5300 0.0019283368019387126\n",
            "5400 0.002000784035772085\n",
            "5500 0.002493156585842371\n",
            "5600 0.0017423024401068687\n",
            "5700 0.0017798577900975943\n",
            "5800 0.0016847029328346252\n",
            "5900 0.008358853869140148\n",
            "6000 0.0016279026167467237\n",
            "6100 0.0023086918517947197\n",
            "6200 0.0016172376926988363\n",
            "6300 0.0015509235672652721\n",
            "6400 0.0015553499106317759\n",
            "6500 0.0015040712896734476\n",
            "6600 0.00171218765899539\n",
            "6700 0.0017438066424801946\n",
            "6800 0.0014402741799131036\n",
            "6900 0.0014198950957506895\n",
            "7000 0.0017800669884309173\n",
            "7100 0.001685011899098754\n",
            "7200 0.001365295029245317\n",
            "7300 0.0014711364638060331\n",
            "7400 0.0036160205490887165\n",
            "7500 0.0013285735622048378\n",
            "7600 0.0013017415767535567\n",
            "7700 0.001339509035460651\n",
            "7800 0.0012745758285745978\n",
            "7900 0.0012638502521440387\n",
            "8000 0.0012499213917180896\n",
            "8100 0.0012621283531188965\n",
            "8200 0.001228171749971807\n",
            "8300 0.0013280643615871668\n",
            "8400 0.001207153545692563\n",
            "8500 0.0019494607113301754\n",
            "8600 0.0011881579412147403\n",
            "8700 0.001504261395893991\n",
            "8800 0.0011707782978191972\n",
            "8900 0.0011661025928333402\n",
            "9000 0.0011548332404345274\n",
            "9100 0.0011468135053291917\n",
            "9200 0.0011380016803741455\n",
            "9300 0.001133378711529076\n",
            "9400 0.003350161947309971\n",
            "9500 0.0011169386561959982\n",
            "9600 0.001939334673807025\n",
            "9700 0.0011029503075405955\n",
            "9800 0.0011045214487239718\n",
            "9900 0.0011132217478007078\n",
            "10000 0.0010834538843482733\n"
          ]
        }
      ]
    },
    {
      "cell_type": "code",
      "source": [
        "h = 0.01\n",
        "k = 0.01\n",
        "x = torch.arange(-1, 1, h)\n",
        "t = torch.arange(0, 1, k)\n",
        "\n",
        "# exact solution\n",
        "X = torch.stack(torch.meshgrid(x, t)).reshape(2, -1).T\n",
        "X = X.to(net.X.device)"
      ],
      "metadata": {
        "id": "53LDQL-UY8IM"
      },
      "execution_count": 5,
      "outputs": []
    },
    {
      "cell_type": "code",
      "source": [
        "model = net.model\n",
        "model.eval()\n",
        "with torch.no_grad():\n",
        "    y_pred = model(X).reshape(len(x), len(t)).cpu().numpy()"
      ],
      "metadata": {
        "id": "RP9kCEo1ZBSb"
      },
      "execution_count": 6,
      "outputs": []
    },
    {
      "cell_type": "code",
      "source": [
        "sns.heatmap(y_pred, cmap='jet')"
      ],
      "metadata": {
        "colab": {
          "base_uri": "https://localhost:8080/",
          "height": 290
        },
        "id": "SGaW2zBFZG2q",
        "outputId": "d70345e8-4c74-4600-b7d2-4fe11834c25f"
      },
      "execution_count": 7,
      "outputs": [
        {
          "output_type": "execute_result",
          "data": {
            "text/plain": [
              "<AxesSubplot:>"
            ]
          },
          "metadata": {},
          "execution_count": 7
        },
        {
          "output_type": "display_data",
          "data": {
            "text/plain": [
              "<Figure size 432x288 with 2 Axes>"
            ],
            "image/png": "[encoded data removed]"
          },
          "metadata": {}
        }
      ]
    },
    {
      "cell_type": "code",
      "source": [
        "mat = {'v': y_pred}\n",
        "scipy.io.savemat('diffusion_pinn.mat', mat)"
      ],
      "metadata": {
        "id": "N6rwk_aAZLoU"
      },
      "execution_count": 10,
      "outputs": []
    }
  ]
}